{
  "cells": [
    {
      "metadata": {
        "_uuid": "8dc924a4364b785532ca1e5d066570dfcbe0a428"
      },
      "cell_type": "markdown",
      "source": "# Glossary\n\n- <a href='#intro'><b>1 Introduction</b></a>\n- <a href='#importing'><b>2 Importing and installing dependencies</b></a>\n- <a href='#game_data'><b>3 Game Data</b></a>\n    - <a href='#null'><b>3.1 Checking for Null values</b></a>\n        - <a href='#null_needs'>3.1.1 Checking whether or not we need the columns with missing values</a>\n        - <a href='#null_drop'>3.1.2 Dropping unnecessary columns</a>\n    - <a href='#types'><b>3.2 Checking column types</b></a>\n        - <a href='#memory_usage'> 3.2.1 Changing column types for less memory usage</a>\n    - <a href='#scatter_plot'><b>3.3 Plotting the games of the season</b></a>\n- <a href='#video_footage_injury'><b>4 Video Footage Injury</b></a>\n    - <a href='#video_footage_injury_null'><b>4.1 Checking for Null values</b></a>\n    - <a href='#video_footage_injury_types'><b>4.2 Checking column types</b></a>\n    - <a href='#video_footage_injury_season'><b>4.3 Plotting concussions by season and year</b></a>\n        - <a href='#video_footage_injury_season_season'>4.3.1 Concussions by season and year</a>\n        - <a href='#video_footage_injury_season_week'>4.3.2 Concussions by week and quarter</a>\n- <a href='#video_review'><b>5 Video Review</b></a>\n    - <a href='#video_review_null'><b>5.1 Checking for Null values</b></a>\n        - <a href='#video_review_null_needs'>5.1.1 Checking whether or not we need the columns with missing values</a>\n    - <a href='#video_review_types'><b>5.2 Checking column types</b></a>\n        - <a href='#video_review_usage'> 5.2.1 Changing column types for less memory usage</a>\n    - <a href='#video_review_plot'><b>5.3 Plotting concussions by category</b></a>"
    },
    {
      "metadata": {
        "_uuid": "2bd94780a923fd9ab4127784d3ebf1d96b743f7c"
      },
      "cell_type": "markdown",
      "source": "# <a id='intro'><b>1 Introduction:</b></a>"
    },
    {
      "metadata": {
        "_uuid": "864d5ec9b0fa231db82bde367bef744aebd71762"
      },
      "cell_type": "markdown",
      "source": "The National Football League is America's most popular sports league, comprised of 32 franchises that compete each year to win the Super Bowl, the world's biggest annual sporting event. Founded in 1920, the NFL developed the model for the successful modern sports league, including national and international distribution, extensive revenue sharing, competitive excellence, and strong franchises across the country.\n\nThe NFL is committed to advancing progress in the diagnosis, prevention and treatment of sports-related injuries. The NFL's ongoing health and safety efforts include support for independent medical research and engineering advancements and a commitment to look at anything and everything to protect players and make the game safer, including enhancements to medical protocols and improvements to how our game is taught and played.\n\nAs more is learned, the league evaluates and changes rules to evolve the game and try to improve protections for players. Since 2002 alone, the NFL has made 50 rules changes intended to eliminate potentially dangerous tactics and reduce the risk of injuries.\n\nFor more information about the NFL's health and safety efforts, please visit www.PlaySmartPlaySafe.com."
    },
    {
      "metadata": {
        "trusted": true,
        "_uuid": "f86d7d2181c19e4a6be5edc89c4bb7357a246f6f"
      },
      "cell_type": "markdown",
      "source": "# <a id='importing'><b>2 Importing and installing dependencies:</b></a>"
    },
    {
      "metadata": {
        "_uuid": "8f2839f25d086af736a60e9eeb907d3b93b6e0e5",
        "_cell_guid": "b1076dfc-b9ad-4769-8c92-a6c4dae69d19",
        "trusted": true
      },
      "cell_type": "code",
      "source": "%matplotlib inline\n\nimport numpy as np\nimport pandas as pd\nimport matplotlib.pyplot as plt\nimport seaborn as sns\nimport gc\nimport warnings\n\nwarnings.simplefilter(action='ignore', category=FutureWarning)\nsns.set()\n\nprint('All dependencies installed')",
      "execution_count": null,
      "outputs": []
    },
    {
      "metadata": {
        "_uuid": "c6797be4018acf2e27ca56f09024aca74c3a4af7"
      },
      "cell_type": "markdown",
      "source": "# <a id='game_data'><b>3 Game Data:</b></a>"
    },
    {
      "metadata": {
        "_cell_guid": "79c7e3d0-c299-4dcb-8224-4455121ee9b0",
        "_uuid": "d629ff2d2480ee46fbb7e2d37f6b5fab8052498a",
        "trusted": true
      },
      "cell_type": "code",
      "source": "game_data = pd.read_csv('../input/game_data.csv', parse_dates=True)\nprint(game_data.shape)\ngame_data.head()",
      "execution_count": null,
      "outputs": []
    },
    {
      "metadata": {
        "_uuid": "f9b9dcb21d2a9a94605151f93e3b22f3fda4f13e"
      },
      "cell_type": "markdown",
      "source": "## <a id='null'><b>3.1 Checking for Null values</b></a>"
    },
    {
      "metadata": {
        "trusted": true,
        "_uuid": "3ca6927efa55c18ffff459219e82763594e427f7"
      },
      "cell_type": "code",
      "source": "np.sum(game_data.isnull())",
      "execution_count": null,
      "outputs": []
    },
    {
      "metadata": {
        "_uuid": "7981144364ea5e19515e09bf80d800ab7355f049"
      },
      "cell_type": "markdown",
      "source": "### <a id='null_needs'>3.1.1 Checking whether or not we need the columns with missing values</a>"
    },
    {
      "metadata": {
        "trusted": true,
        "_uuid": "0dcf24d0f1082beb38bed2d14856a101793ab6e1"
      },
      "cell_type": "code",
      "source": "stadium_type = game_data['StadiumType'].value_counts()\nturf = game_data['Turf'].value_counts()\ngame_weather = game_data['GameWeather'].value_counts()\ntemperature = game_data['Temperature'].value_counts()\noutdoor_weather = game_data['OutdoorWeather'].value_counts\n\nprint(stadium_type, '\\n', '-'*50, '\\n', turf, '\\n', '-'*50, '\\n', game_weather, '\\n', '-'*50, '\\n', temperature,  '\\n', '-'*50, '\\n', outdoor_weather)",
      "execution_count": null,
      "outputs": []
    },
    {
      "metadata": {
        "_uuid": "f072541060f16c2b1cf06513a822f40394c2699b"
      },
      "cell_type": "markdown",
      "source": "stadium_type = most of the values are repeated or labelled differently but mean the same. Most stadiums also are outdoors with a few with retractable roofs. The few that are missing can be searched easily. \nturf = same with stadium_type, most values are the same but labelled differently and can be searched easily. \ngame_weather = around 15% of the values are missing in this column. This can be searched but will be more time-consuming. \ntemperature = around 10% of the values are missing in this column, which seems a little weird since game_weather has more missing values. \noutdoor_weather = around 38% of the data is missing and may potentially not have a very big impact on the analysis of data."
    },
    {
      "metadata": {
        "trusted": true,
        "_uuid": "3c6838400ad6e184f7948cb19ad64f1b21c7d241"
      },
      "cell_type": "markdown",
      "source": "<a id='null_drop'>3.1.2 Dropping unnecessary columns</a>"
    },
    {
      "metadata": {
        "trusted": true,
        "_uuid": "8845cdc08506c6e952a9c8993ea3ba21e5d02290"
      },
      "cell_type": "code",
      "source": "game_data = game_data.drop(columns=['OutdoorWeather', 'GameWeather'], axis=1)\ngame_data.info()",
      "execution_count": null,
      "outputs": []
    },
    {
      "metadata": {
        "_uuid": "3b3eacb9ebac67187b7cf09400f2fcbb91e15bcb"
      },
      "cell_type": "markdown",
      "source": "After dropping 2 columns and changing their types, the memory usage went down by 21+ KB"
    },
    {
      "metadata": {
        "_uuid": "f46ce43374bc89ecd763571fec1818eceff60ea1"
      },
      "cell_type": "markdown",
      "source": "## <a id='types'><b>3.2 Checking column types</b></a>"
    },
    {
      "metadata": {
        "trusted": true,
        "_uuid": "19bffd5a007a2308aa1cf760d71f2858dd94e2a4"
      },
      "cell_type": "code",
      "source": "game_data.info()",
      "execution_count": null,
      "outputs": []
    },
    {
      "metadata": {
        "_uuid": "e54b786d3a3758d14a0a03ccdeb9c7af269b4665"
      },
      "cell_type": "markdown",
      "source": "### <a id='memory_usage'> 3.2.1 Changing column types for less memory usage</a>"
    },
    {
      "metadata": {
        "trusted": true,
        "_uuid": "a84fea94b1cf25f903f531434dd8bf4be48368f2"
      },
      "cell_type": "code",
      "source": "category_columns = ['Season_Type', 'StadiumType', 'Turf']\nfloat_columns = ['Temperature']\n\ngame_data[category_columns] = game_data[category_columns].astype('category')\ngame_data[float_columns] = game_data[float_columns].astype(float)\ndate = pd.to_datetime(game_data['Game_Date'].str.split(expand=True)[0], format='%Y-%m-%d')\n\ngame_data.info()",
      "execution_count": null,
      "outputs": []
    },
    {
      "metadata": {
        "_uuid": "c519f005ba4deb9c632e6e059f05aa397f88cf28"
      },
      "cell_type": "markdown",
      "source": "## <a id='scatter_plot'><b>3.3 Plotting the games of the season</b></a>"
    },
    {
      "metadata": {
        "trusted": true,
        "_uuid": "53b1aaf3e7e336793b756df4863fc23b84feaf4c"
      },
      "cell_type": "code",
      "source": "plt.figure(figsize=(20, 9))\n\n_ = sns.scatterplot(x='Home_Team', y='Visit_Team', hue='Week',data=game_data)\nplt.xticks(rotation=90, fontsize=14)\nplt.yticks(fontsize=15)\nplt.xlabel('Visiting Team')\nplt.ylabel('Home Team')\n\nplt.show()",
      "execution_count": null,
      "outputs": []
    },
    {
      "metadata": {
        "trusted": true,
        "_uuid": "8ab68884afe925004ca48f2a261adf78e64d6818"
      },
      "cell_type": "markdown",
      "source": "It seems that the dataset included for NFC and AFC which are divisions and not teams."
    },
    {
      "metadata": {
        "trusted": true,
        "_uuid": "3c1cdfaa69718cbeef5a64e41665ccaf35aff7b3"
      },
      "cell_type": "markdown",
      "source": "# <a id='video_footage_injury'><b>4 Video Footage Injury:</b></a>"
    },
    {
      "metadata": {
        "trusted": true,
        "_uuid": "4aacc1ae896201d798be5c505d14d625791a8994"
      },
      "cell_type": "code",
      "source": "video_footage_injury = pd.read_csv('../input/video_footage-injury.csv', parse_dates=True)\nprint(game_data.shape)\nvideo_footage_injury.head()",
      "execution_count": null,
      "outputs": []
    },
    {
      "metadata": {
        "_uuid": "f0ef032ac632601a331e2a13b27cc0321ed423dd"
      },
      "cell_type": "markdown",
      "source": "## <a id='video_footage_injury_null'><b>4.1 Checking for Null values</b></a>"
    },
    {
      "metadata": {
        "trusted": true,
        "_uuid": "fc928dcb82a5c548c8829da6070bccfd2ae40475"
      },
      "cell_type": "code",
      "source": "np.sum(video_footage_injury.isnull())",
      "execution_count": null,
      "outputs": []
    },
    {
      "metadata": {
        "trusted": true,
        "_uuid": "da3f6b84eb16188da41aaa1686c9b73c879a64f4"
      },
      "cell_type": "markdown",
      "source": "## <a id='video_footage_injury_types'><b>4.2 Checking column types</b></a>"
    },
    {
      "metadata": {
        "trusted": true,
        "_uuid": "6238872623476c0b757a9413630a8ba818c4c6ef"
      },
      "cell_type": "code",
      "source": "video_footage_injury.info()",
      "execution_count": null,
      "outputs": []
    },
    {
      "metadata": {
        "_uuid": "b71c260909ffd185018775ee5ca0d2950473ffac"
      },
      "cell_type": "markdown",
      "source": "## <a id='video_footage_injury_season'><b>4.3 Plotting concussions by season and year</b></a>\n### <a id='video_footage_injury_season_season'>4.3.1 Concussions by season and year</a>"
    },
    {
      "metadata": {
        "trusted": true,
        "scrolled": true,
        "_uuid": "bd7b01255e66b5729252852c53d11137f5e953e5"
      },
      "cell_type": "code",
      "source": "plt.figure(figsize=(20, 7.5))\n\nplt.subplot(1, 2, 1)\n_ = sns.countplot(video_footage_injury['Type'])\nplt.title('Concussions per season type:', fontsize=20)\nplt.xticks(fontsize=15)\nplt.yticks(fontsize=15)\nplt.xlabel('Type of season', fontsize=15)\nplt.ylabel('Total amount of concussions', fontsize=15)\n\nplt.subplot(1, 2, 2)\n_ = sns.countplot(video_footage_injury['season'])\nplt.title('Concussions per year:', fontsize=20)\nplt.xticks(fontsize=15)\nplt.yticks(fontsize=15)\nplt.xlabel('Year', fontsize=15)\nplt.ylabel('Total amount of concussions', fontsize=15)\n\nplt.tight_layout()\nplt.show()",
      "execution_count": null,
      "outputs": []
    },
    {
      "metadata": {
        "_uuid": "a2896f68bafdf4c4aae1b373749c7a7e87560235"
      },
      "cell_type": "markdown",
      "source": "Clearly, more of the concussions occur during regular season rather than the pre-season and 2016 is showing a slight increase in concussions."
    },
    {
      "metadata": {
        "_uuid": "6916cb711e0b6743b5d9ae6d409e83abcd02d6e5"
      },
      "cell_type": "markdown",
      "source": "### <a id='video_footage_injury_season_week'>4.3.2 Concussions by week and quarter</a>"
    },
    {
      "metadata": {
        "trusted": true,
        "_uuid": "e5b38530d677fc2c6e80df235baa740c848a6d7d"
      },
      "cell_type": "code",
      "source": "plt.figure(figsize=(20, 10))\n\nplt.subplot(2, 1, 1)\n_ = sns.stripplot(x='Week', y='Type', hue='Qtr', data=video_footage_injury)\nplt.title('Concussions per week:', fontsize=20)\nplt.xticks(fontsize=15)\nplt.yticks(fontsize=15)\nplt.xlabel('Week', fontsize=15)\nplt.ylabel('Season Type', fontsize=15)\n\nplt.subplot(2, 1, 2)\n_ = sns.barplot(x='Qtr', y='Week', data=video_footage_injury)\nplt.title('Concussions per quarter:', fontsize=20)\nplt.xticks(fontsize=15)\nplt.yticks(fontsize=15)\nplt.xlabel('Week', fontsize=15)\nplt.ylabel('Season Type', fontsize=15)\n\nplt.tight_layout()\nplt.show()",
      "execution_count": null,
      "outputs": []
    },
    {
      "metadata": {
        "trusted": true,
        "_uuid": "30c6fe55d566724ca23b5e2a486ac7e1af9501c0"
      },
      "cell_type": "markdown",
      "source": "It seems that as the season gets in its final stages, concussions are more prevalent. This can be correlated to teams trying to make it to the playoffs rather than getting eliminated. Also, most concussions occur during the 4th quarter followed by the 2nd quarter. The 1st, 2nd, and 3rd quarters show almost an identical distribution."
    },
    {
      "metadata": {
        "trusted": true,
        "_uuid": "0e2a603aeb91f54432264131632867f7d0cf8e36"
      },
      "cell_type": "markdown",
      "source": "# <a id='video_review'><b>5 Video Review:</b></a>"
    },
    {
      "metadata": {
        "trusted": true,
        "_uuid": "f3d698fbf0ee95022c4bbb513824ada09108c74e"
      },
      "cell_type": "code",
      "source": "video_review = pd.read_csv('../input/video_review.csv')\nprint(video_review.shape)\nvideo_review.head()",
      "execution_count": null,
      "outputs": []
    },
    {
      "metadata": {
        "_uuid": "ead618a764e394e6e912f900761d0e7232cffc86"
      },
      "cell_type": "markdown",
      "source": "## <a id='video_review_null'><b>5.1 Checking for Null values</b></a>"
    },
    {
      "metadata": {
        "trusted": true,
        "_uuid": "2018ccd6f8c311c6383cb1e5a17dfdab207db0db"
      },
      "cell_type": "code",
      "source": "print(np.sum(video_review.isnull()))\nprint('-'*60)\nvideo_review.info()",
      "execution_count": null,
      "outputs": []
    },
    {
      "metadata": {
        "_uuid": "293ae2564537d6f35d5c8f338c0e0069e745251c"
      },
      "cell_type": "markdown",
      "source": "### <a id='video_review_null_needs'>5.1.1 Checking whether or not we need the columns with missing values</a>"
    },
    {
      "metadata": {
        "_uuid": "16908d877c4c3206b70ca3670dd6fa91d0d88e11",
        "trusted": true
      },
      "cell_type": "code",
      "source": "video_review = video_review.drop(columns=['Primary_Partner_GSISID'], axis=1)\nvideo_review = video_review.dropna()\nvideo_review.info()",
      "execution_count": null,
      "outputs": []
    },
    {
      "metadata": {
        "_uuid": "a7ef178e78dd79c3c4572d513391a8d1d6a2c4ad"
      },
      "cell_type": "markdown",
      "source": "Decided to drop the column 'Primary_Partner_GSISID' that was not relevant and drop 2 rows missing values."
    },
    {
      "metadata": {
        "trusted": true,
        "_uuid": "ad41e616326289f8e166e8e4f60acc143cb1f933"
      },
      "cell_type": "markdown",
      "source": "## <a id='video_review_types'><b>5.2 Checking column types</b></a>"
    },
    {
      "metadata": {
        "trusted": true,
        "_uuid": "ea03a59e54ed9ade72f54e24a6fea918244fa20d"
      },
      "cell_type": "code",
      "source": "video_review.info()",
      "execution_count": null,
      "outputs": []
    },
    {
      "metadata": {
        "trusted": true,
        "_uuid": "8c8e7ef545f6cd9c83d7447a4f8d1bd21ad335fc"
      },
      "cell_type": "markdown",
      "source": "### <a id='video_review_usage'> 5.2.1 Changing column types for less memory usage</a>"
    },
    {
      "metadata": {
        "trusted": true,
        "_uuid": "9996ee383b2e5867bd9777522f37b092c7229354"
      },
      "cell_type": "code",
      "source": "category_columns = ['Player_Activity_Derived', 'Turnover_Related', 'Primary_Impact_Type', 'Primary_Partner_Activity_Derived', 'Friendly_Fire']\n\nvideo_review[category_columns] = video_review[category_columns].astype('category')\nvideo_review.info()",
      "execution_count": null,
      "outputs": []
    },
    {
      "metadata": {
        "trusted": true,
        "_uuid": "db07c6802bdfdbc87ecc125c7bd4eced70de1d27"
      },
      "cell_type": "markdown",
      "source": "Dropping one of the columns and changing the type of 5 columns, memory usage was brought down by 1.5KB."
    },
    {
      "metadata": {
        "trusted": true,
        "_uuid": "2fbad58e96864e13d0f1e653e623f9ff588cdc38"
      },
      "cell_type": "markdown",
      "source": "## <a id='video_review_plot'><b>5.3 Plotting concussions by category</b></a>"
    },
    {
      "metadata": {
        "trusted": true,
        "_uuid": "a7366dcef26a1c1ae8c3c33adb16596bc7bbbcb7"
      },
      "cell_type": "code",
      "source": "plt.figure(figsize=(20, 7.5))\n\nplt.subplot(1, 2, 1)\n_ = sns.countplot(video_review['Player_Activity_Derived'])\nplt.title('Concussions related incidents:', fontsize=20)\nplt.xlabel('')\nplt.ylabel('')\nplt.xticks(fontsize=15)\nplt.yticks(fontsize=15)\n\nplt.subplot(1, 2, 2)\n_ = sns.countplot(video_review['Friendly_Fire'])\nplt.title('Incidents from same team or opposing:', fontsize=20)\nplt.xlabel('')\nplt.ylabel('')\nplt.xticks(['Opposing Team', 'Unclear', 'Same Team'], fontsize=15)\nplt.yticks(fontsize=15)\n\nplt.tight_layout()\nplt.show()",
      "execution_count": null,
      "outputs": []
    },
    {
      "metadata": {
        "trusted": true,
        "_uuid": "477798832c0642a3f2ec20aa959f2cf2b8a8385f"
      },
      "cell_type": "markdown",
      "source": "Most concussions occur while tackling a player from the opposed team. Maybe new rules could be applied on the players that are tackling in order to lower the incedents rate."
    },
    {
      "metadata": {
        "trusted": true,
        "_uuid": "b78c4595d3426e09749f3a8de267f9a0e38e66b5"
      },
      "cell_type": "code",
      "source": "",
      "execution_count": null,
      "outputs": []
    },
    {
      "metadata": {
        "trusted": true,
        "_uuid": "1dbf6ea0714dba0e98d3347fec23358e95bdaecc"
      },
      "cell_type": "code",
      "source": "",
      "execution_count": null,
      "outputs": []
    },
    {
      "metadata": {
        "trusted": true,
        "_uuid": "5e876c089991e2edee1ad37e83ae74759391d4d1"
      },
      "cell_type": "code",
      "source": "",
      "execution_count": null,
      "outputs": []
    },
    {
      "metadata": {
        "trusted": true,
        "_uuid": "b80f6fe0da7fcb56307e11ee31d9e303bdf05136"
      },
      "cell_type": "code",
      "source": "",
      "execution_count": null,
      "outputs": []
    }
  ],
  "metadata": {
    "kernelspec": {
      "display_name": "Python 3",
      "language": "python",
      "name": "python3"
    },
    "language_info": {
      "name": "python",
      "version": "3.6.6",
      "mimetype": "text/x-python",
      "codemirror_mode": {
        "name": "ipython",
        "version": 3
      },
      "pygments_lexer": "ipython3",
      "nbconvert_exporter": "python",
      "file_extension": ".py"
    }
  },
  "nbformat": 4,
  "nbformat_minor": 1
}