{
  "cells": [
    {
      "metadata": {
        "_uuid": "8f2839f25d086af736a60e9eeb907d3b93b6e0e5",
        "_cell_guid": "b1076dfc-b9ad-4769-8c92-a6c4dae69d19",
        "trusted": true
      },
      "cell_type": "code",
      "source": "%matplotlib inline\n\nimport numpy as np\nimport pandas as pd\nimport matplotlib.pyplot as plt\nimport seaborn as sns\nimport gc\n\nsns.set()\n\nprint('All dependencies installed')",
      "execution_count": 140,
      "outputs": [
        {
          "output_type": "stream",
          "text": "All dependencies installed\n",
          "name": "stdout"
        }
      ]
    },
    {
      "metadata": {
        "_cell_guid": "79c7e3d0-c299-4dcb-8224-4455121ee9b0",
        "_uuid": "d629ff2d2480ee46fbb7e2d37f6b5fab8052498a",
        "trusted": true
      },
      "cell_type": "code",
      "source": "game_data = pd.read_csv('../input/game_data.csv', parse_dates=True)\nprint(game_data.shape)\ngame_data.head()",
      "execution_count": 163,
      "outputs": [
        {
          "output_type": "stream",
          "text": "(666, 18)\n",
          "name": "stdout"
        },
        {
          "output_type": "execute_result",
          "execution_count": 163,
          "data": {
            "text/plain": "   GameKey  Season_Year       ...       Temperature  OutdoorWeather\n0        1         2016       ...               NaN             NaN\n1        2         2016       ...              79.0           Sunny\n2        3         2016       ...              94.0   Partly Cloudy\n3        4         2016       ...              73.0             NaN\n4        5         2016       ...              88.0             NaN\n\n[5 rows x 18 columns]",
            "text/html": "<div>\n<style scoped>\n    .dataframe tbody tr th:only-of-type {\n        vertical-align: middle;\n    }\n\n    .dataframe tbody tr th {\n        vertical-align: top;\n    }\n\n    .dataframe thead th {\n        text-align: right;\n    }\n</style>\n<table border=\"1\" class=\"dataframe\">\n  <thead>\n    <tr style=\"text-align: right;\">\n      <th></th>\n      <th>GameKey</th>\n      <th>Season_Year</th>\n      <th>Season_Type</th>\n      <th>Week</th>\n      <th>Game_Date</th>\n      <th>Game_Day</th>\n      <th>Game_Site</th>\n      <th>Start_Time</th>\n      <th>Home_Team</th>\n      <th>HomeTeamCode</th>\n      <th>Visit_Team</th>\n      <th>VisitTeamCode</th>\n      <th>Stadium</th>\n      <th>StadiumType</th>\n      <th>Turf</th>\n      <th>GameWeather</th>\n      <th>Temperature</th>\n      <th>OutdoorWeather</th>\n    </tr>\n  </thead>\n  <tbody>\n    <tr>\n      <th>0</th>\n      <td>1</td>\n      <td>2016</td>\n      <td>Pre</td>\n      <td>1</td>\n      <td>2016-08-07 00:00:00.000</td>\n      <td>Sunday</td>\n      <td>Indianapolis</td>\n      <td>20:00</td>\n      <td>Indianapolis Colts</td>\n      <td>IND</td>\n      <td>Green Bay Packers</td>\n      <td>GB</td>\n      <td>Tom Benson Hall of Fame Stadium</td>\n      <td>Outdoor</td>\n      <td>Turf</td>\n      <td>NaN</td>\n      <td>NaN</td>\n      <td>NaN</td>\n    </tr>\n    <tr>\n      <th>1</th>\n      <td>2</td>\n      <td>2016</td>\n      <td>Pre</td>\n      <td>2</td>\n      <td>2016-08-13 00:00:00.000</td>\n      <td>Saturday</td>\n      <td>Los Angeles</td>\n      <td>17:00</td>\n      <td>Los Angeles Rams</td>\n      <td>LA</td>\n      <td>Dallas Cowboys</td>\n      <td>DAL</td>\n      <td>Los  Angeles Memorial Coliseum</td>\n      <td>Outdoor</td>\n      <td>Grass</td>\n      <td>Sunny</td>\n      <td>79.0</td>\n      <td>Sunny</td>\n    </tr>\n    <tr>\n      <th>2</th>\n      <td>3</td>\n      <td>2016</td>\n      <td>Pre</td>\n      <td>2</td>\n      <td>2016-08-11 00:00:00.000</td>\n      <td>Thursday</td>\n      <td>Baltimore</td>\n      <td>19:30</td>\n      <td>Baltimore Ravens</td>\n      <td>BLT</td>\n      <td>Carolina Panthers</td>\n      <td>CAR</td>\n      <td>M&amp;T Bank Stadium</td>\n      <td>Outdoor</td>\n      <td>Natural Grass</td>\n      <td>Party Cloudy</td>\n      <td>94.0</td>\n      <td>Partly Cloudy</td>\n    </tr>\n    <tr>\n      <th>3</th>\n      <td>4</td>\n      <td>2016</td>\n      <td>Pre</td>\n      <td>2</td>\n      <td>2016-08-12 00:00:00.000</td>\n      <td>Friday</td>\n      <td>Green Bay</td>\n      <td>19:00</td>\n      <td>Green Bay Packers</td>\n      <td>GB</td>\n      <td>Cleveland Browns</td>\n      <td>CLV</td>\n      <td>Lambeau Field</td>\n      <td>Outdoor</td>\n      <td>DD GrassMaster</td>\n      <td>NaN</td>\n      <td>73.0</td>\n      <td>NaN</td>\n    </tr>\n    <tr>\n      <th>4</th>\n      <td>5</td>\n      <td>2016</td>\n      <td>Pre</td>\n      <td>2</td>\n      <td>2016-08-11 00:00:00.000</td>\n      <td>Thursday</td>\n      <td>Chicago</td>\n      <td>19:00</td>\n      <td>Chicago Bears</td>\n      <td>CHI</td>\n      <td>Denver Broncos</td>\n      <td>DEN</td>\n      <td>Soldier Field</td>\n      <td>Outdoor</td>\n      <td>Grass</td>\n      <td>Partly Cloudy, Chance of Rain 80%</td>\n      <td>88.0</td>\n      <td>NaN</td>\n    </tr>\n  </tbody>\n</table>\n</div>"
          },
          "metadata": {}
        }
      ]
    },
    {
      "metadata": {
        "_uuid": "396dad2882308b95c0139b450db46ce17d6c01c0"
      },
      "cell_type": "markdown",
      "source": "# Checking column types:"
    },
    {
      "metadata": {
        "trusted": true,
        "_uuid": "0a6d2dbdc94b8a41dc2635a574febe4900b2b8a1"
      },
      "cell_type": "code",
      "source": "game_data.info()",
      "execution_count": 164,
      "outputs": [
        {
          "output_type": "stream",
          "text": "<class 'pandas.core.frame.DataFrame'>\nRangeIndex: 666 entries, 0 to 665\nData columns (total 18 columns):\nGameKey           666 non-null int64\nSeason_Year       666 non-null int64\nSeason_Type       666 non-null object\nWeek              666 non-null int64\nGame_Date         666 non-null object\nGame_Day          666 non-null object\nGame_Site         666 non-null object\nStart_Time        666 non-null object\nHome_Team         666 non-null object\nHomeTeamCode      666 non-null object\nVisit_Team        666 non-null object\nVisitTeamCode     666 non-null object\nStadium           666 non-null object\nStadiumType       628 non-null object\nTurf              665 non-null object\nGameWeather       568 non-null object\nTemperature       600 non-null float64\nOutdoorWeather    412 non-null object\ndtypes: float64(1), int64(3), object(14)\nmemory usage: 93.7+ KB\n",
          "name": "stdout"
        }
      ]
    },
    {
      "metadata": {
        "_uuid": "db3fef245878c7c96bf04849a44475691dd96f81"
      },
      "cell_type": "markdown",
      "source": "## Changing column types for less memory usage:"
    },
    {
      "metadata": {
        "trusted": true,
        "_uuid": "fb58f83adb5a8d561dba5941856ffdd4c00956cf"
      },
      "cell_type": "code",
      "source": "category_columns = ['Season_Type', 'StadiumType', 'Turf']\nfloat_columns = ['Temperature']\n\ngame_data[category_columns] = game_data[category_columns].astype('category')\ngame_data[float_columns] = game_data[float_columns].astype(float)\ndate = pd.to_datetime(game_data['Game_Date'].str.split(expand=True)[0], format='%Y-%m-%d')",
      "execution_count": 180,
      "outputs": []
    },
    {
      "metadata": {
        "trusted": true,
        "_uuid": "f3ff34a3e8362b6870da53368c79470609c7a36e"
      },
      "cell_type": "code",
      "source": "game_data.info()",
      "execution_count": 181,
      "outputs": [
        {
          "output_type": "stream",
          "text": "<class 'pandas.core.frame.DataFrame'>\nRangeIndex: 666 entries, 0 to 665\nData columns (total 18 columns):\nGameKey           666 non-null int64\nSeason_Year       666 non-null int64\nSeason_Type       666 non-null category\nWeek              666 non-null int64\nGame_Date         666 non-null object\nGame_Day          666 non-null object\nGame_Site         666 non-null object\nStart_Time        666 non-null object\nHome_Team         666 non-null object\nHomeTeamCode      666 non-null object\nVisit_Team        666 non-null object\nVisitTeamCode     666 non-null object\nStadium           666 non-null object\nStadiumType       628 non-null category\nTurf              665 non-null category\nGameWeather       568 non-null object\nTemperature       600 non-null float64\nOutdoorWeather    412 non-null object\ndtypes: category(3), float64(1), int64(3), object(11)\nmemory usage: 82.5+ KB\n",
          "name": "stdout"
        }
      ]
    },
    {
      "metadata": {
        "_uuid": "0170c48d54fd02e9e1b68065bca9f39a2d24294c"
      },
      "cell_type": "markdown",
      "source": "# Checking for Null values:"
    },
    {
      "metadata": {
        "trusted": true,
        "_uuid": "a5ece9316439b17ae21fb5f0b459e2a8388d69dd"
      },
      "cell_type": "code",
      "source": "np.sum(game_data.isnull())",
      "execution_count": 80,
      "outputs": [
        {
          "output_type": "execute_result",
          "execution_count": 80,
          "data": {
            "text/plain": "GameKey             0\nSeason_Year         0\nSeason_Type         0\nWeek                0\nGame_Date           0\nGame_Day            0\nGame_Site           0\nStart_Time          0\nHome_Team           0\nHomeTeamCode        0\nVisit_Team          0\nVisitTeamCode       0\nStadium             0\nStadiumType        38\nTurf                1\nGameWeather        98\nTemperature        66\nOutdoorWeather    254\ndtype: int64"
          },
          "metadata": {}
        }
      ]
    },
    {
      "metadata": {
        "trusted": true,
        "_uuid": "b339bdfcfe47dbaaca300625a38f58d66ca813fd"
      },
      "cell_type": "markdown",
      "source": "## Checking whether or not we need the columns with missing values:"
    },
    {
      "metadata": {
        "trusted": true,
        "_uuid": "b1ee624c551970a93ca40221f16bdba6a2d96f32"
      },
      "cell_type": "code",
      "source": "stadium_type = game_data['StadiumType'].value_counts()\nturf = game_data['Turf'].value_counts()\ngame_weather = game_data['GameWeather'].value_counts()\ntemperature = game_data['Temperature'].value_counts()\noutdoor_weather = game_data['OutdoorWeather'].value_counts\n\nprint(stadium_type, '\\n', '-'*50, '\\n', turf, '\\n', '-'*50, '\\n', game_weather, '\\n', '-'*50, '\\n', temperature,  '\\n', '-'*50, '\\n', outdoor_weather)",
      "execution_count": 81,
      "outputs": [
        {
          "output_type": "stream",
          "text": "Outdoor                         348\nOutdoors                         81\nIndoors                          46\nIndoor                           42\nRetractable Roof                 21\nDome                             21\nOpen                             20\nRetr. Roof - Closed               9\nRetr. Roof-Closed                 4\noutdoor                           4\nRetr. Roof - Open                 3\nDomed, closed                     2\nDome, closed                      2\nIndoor, non-retractable roof      2\nRetr. Roof-Open                   2\nOutdoors                          2\nIndoors (Domed)                   2\nClosed Dome                       2\nRetr. roof - closed               1\nIndoor, Roof Closed               1\nRetr. Roof Closed                 1\nOudoor                            1\nOutdor                            1\nOurdoor                           1\nIndoor, fixed roof                1\nIndoor, Non-Retractable Dome      1\nIndoor, Open Roof                 1\nIndoor, Fixed Roof                1\nOutddors                          1\nOutdoor Retr Roof-Open            1\nOutside                           1\nHeinz Field                       1\nTurf                              1\nName: StadiumType, dtype: int64 \n -------------------------------------------------- \n Grass                         224\nNatural Grass                 121\nField Turf                     65\nArtificial                     61\nFieldTurf                      53\nUBU Speed Series-S5-M          40\nDD GrassMaster                 21\nA-Turf Titan                   20\nUBU Sports Speed S5-M          19\nNatural grass                  11\nFieldTurf 360                   8\ngrass                           3\nNatural                         3\nArtifical                       3\nFieldTurf360                    2\nTurf                            2\nNatural Grass                   2\nNatrual Grass                   2\nNaturall Grass                  1\nField turf                      1\nUBU Speed Series S5-M           1\nSynthetic                       1\nAstroTurf GameDay Grass 3D      1\nName: Turf, dtype: int64 \n -------------------------------------------------- \n Sunny                                                                               145\nCloudy                                                                              119\nPartly Cloudy                                                                        74\nClear                                                                                49\nMostly Cloudy                                                                        26\nRain                                                                                 20\nControlled Climate                                                                   19\nIndoors                                                                              12\nIndoor                                                                               11\nFair                                                                                  6\nMostly cloudy                                                                         6\nMostly Sunny                                                                          6\nPartly sunny                                                                          5\nPartly cloudy                                                                         4\nPartly Sunny                                                                          4\nN/A (Indoors)                                                                         3\nParty Cloudy                                                                          3\nSnow                                                                                  2\nLight Rain                                                                            2\nClear and cool                                                                        2\ncloudy                                                                                2\nClear Skies                                                                           2\nClear and warm                                                                        2\nCloudy, light snow accumulating 1-3\"                                                  1\nCloudy and Cold                                                                       1\nHazy                                                                                  1\nT-Storms                                                                              1\nSunny, highs to upper 80s                                                             1\nChance of Showers                                                                     1\nSnow showers                                                                          1\n                                                                                   ... \nSnow Showers, 3 to 5 inches expected.                                                 1\nHeavy lake effect snow                                                                1\nSunny Skies                                                                           1\nHazy, hot and humid                                                                   1\nCloudy, chance of rain                                                                1\nCloudy with Possible Stray Showers/Thundershowers                                     1\nScattered thunderstorms                                                               1\nMostly Clear. Gusting ot 14.                                                          1\nCLEAR                                                                                 1\nCloudy, steady temps                                                                  1\nCoudy                                                                                 1\nShowers                                                                               1\nCloudy with periods of rain, thunder possible. Winds shifting to WNW, 10-20 mph.      1\nCloudy with rain                                                                      1\nMostly Coudy                                                                          1\nClear and Cold                                                                        1\nRain likely, temps in low 40s.                                                        1\nCold                                                                                  1\nSunny and warm                                                                        1\nClear skies                                                                           1\nControlled                                                                            1\nCloudy, fog started developing in 2nd quarter                                         1\nSunny and Clear                                                                       1\nSuny                                                                                  1\nPartly Cloudy, Chance of Rain 80%                                                     1\nPartly cloudy, lows to upper 50s.                                                     1\nSunny Intervals                                                                       1\nSunny intervals                                                                       1\nCloudy, Rain                                                                          1\n30% Chance of Rain                                                                    1\nName: GameWeather, Length: 67, dtype: int64 \n -------------------------------------------------- \n 68.0    40\n76.0    21\n84.0    19\n72.0    18\n79.0    17\n70.0    15\n62.0    15\n63.0    15\n85.0    14\n75.0    14\n71.0    14\n81.0    13\n61.0    13\n54.0    12\n74.0    12\n88.0    12\n80.0    12\n56.0    11\n65.0    11\n78.0    10\n86.0    10\n82.0    10\n83.0    10\n73.0     9\n47.0     9\n69.0     9\n77.0     8\n42.0     8\n58.0     8\n39.0     8\n        ..\n24.0     3\n46.0     3\n28.0     3\n94.0     3\n43.0     3\n52.0     3\n19.0     2\n23.0     2\n51.0     2\n29.0     2\n17.0     2\n31.0     2\n18.0     2\n11.0     2\n34.0     2\n26.0     2\n92.0     1\n13.0     1\n9.0      1\n21.0     1\n27.0     1\n10.0     1\n22.0     1\n1.0      1\n25.0     1\n16.0     1\n97.0     1\n93.0     1\n14.0     1\n3.0      1\nName: Temperature, Length: 85, dtype: int64 \n -------------------------------------------------- \n <bound method IndexOpsMixin.value_counts of 0                                                    NaN\n1                                                  Sunny\n2                                          Partly Cloudy\n3                                                    NaN\n4                                                    NaN\n5                                          Partly Cloudy\n6                                                    NaN\n7      T-Storms increasing over 30 minutes before kic...\n8                                                 Cloudy\n9                                                    NaN\n10                                                   NaN\n11                                                   NaN\n12                                                   NaN\n13                                                Cloudy\n14                                                   NaN\n15                                                 Sunny\n16                                                   Hot\n17                                                   NaN\n18                                                 Sunny\n19                  Cloudy, 74 degr. Wind SSW at 13 mph \n20                                                Cloudy\n21                                                   NaN\n22               82 deg F, Winds W at 7mph, Humidity 57%\n23                                                 Sunny\n24                                                  Rain\n25                                                 Sunny\n26                                         Partly Cloudy\n27                     Chance of Showers & Thunderstorms\n28                                                 Sunny\n29                                                   NaN\n                             ...                        \n636                                        Mostly Cloudy\n637                                        Partly Cloudy\n638                                           Cloudy, 35\n639                                               Cloudy\n640            11 deg F, Winds NW at 5 mph, Humidity 61%\n641               Partly sunny, 9 degr. Wind NW at 7 mph\n642                                                  NaN\n643                                                  NaN\n644                                                  NaN\n645                                                  NaN\n646                                                  NaN\n647                                                 Snow\n648                                                Clear\n649                                                Clear\n650                       Flurries, Falling to Mid-Teens\n651                                                  NaN\n652                                                Sunny\n653                                                Sunny\n654                                                  NaN\n655                                               Cloudy\n656                                                  NaN\n657                                               Cloudy\n658                                                Sunny\n659                                                  NaN\n660                                                Sunny\n661                                                  NaN\n662                                                  NaN\n663                                               Cloudy\n664                                                  NaN\n665                                               Cloudy\nName: OutdoorWeather, Length: 666, dtype: object>\n",
          "name": "stdout"
        }
      ]
    },
    {
      "metadata": {
        "_uuid": "0d567c8265c40f31d9ca20e839677199df30a6d6"
      },
      "cell_type": "markdown",
      "source": "stadium_type = most of the values are repeated or labelled differently but mean the same. Most staudiums also are outdoors with a few with retractable roofs. The few that are missing can be searched easily. <br>\nturf = same with stadium_type, most values are the same but labelled differently and can be searched easily. <br>\ngame_weather = around 15% of the values are missing in this column. This can be searched but will be more time consuming. <br>\ntemperature = around 10% of the values are missing in this column, which seems a little weird since game_weather has more missing values. <br>\noutdoor_weather = around 38% of the data is mising and may potentially not have a very big impact in the analysis of data."
    },
    {
      "metadata": {
        "trusted": true,
        "_uuid": "ef94a73fb3d9ed25e2a056437ac972cb6bba97e4"
      },
      "cell_type": "code",
      "source": "",
      "execution_count": null,
      "outputs": []
    },
    {
      "metadata": {
        "trusted": true,
        "_uuid": "50837d59ef92316be126d65394895940fd21a7cd"
      },
      "cell_type": "code",
      "source": "",
      "execution_count": null,
      "outputs": []
    },
    {
      "metadata": {
        "trusted": true,
        "_uuid": "c98ed23b53ffb98566361797e6baca33b8108170"
      },
      "cell_type": "code",
      "source": "",
      "execution_count": null,
      "outputs": []
    },
    {
      "metadata": {
        "trusted": true,
        "_uuid": "3242a11e7c71fcd1e4e0bf01639681e2d7ad64d6"
      },
      "cell_type": "code",
      "source": "",
      "execution_count": null,
      "outputs": []
    },
    {
      "metadata": {
        "trusted": true,
        "_uuid": "038837a76fa45659dd994c2158ce0458c4516148"
      },
      "cell_type": "code",
      "source": "",
      "execution_count": null,
      "outputs": []
    },
    {
      "metadata": {
        "trusted": true,
        "_uuid": "951fb5ee23f21d9cc1bb09888c51d9766877a37a"
      },
      "cell_type": "code",
      "source": "",
      "execution_count": null,
      "outputs": []
    },
    {
      "metadata": {
        "trusted": true,
        "_uuid": "e8884a42fba4bf8245dfd67ce625a6fb7d6cfc6d"
      },
      "cell_type": "code",
      "source": "",
      "execution_count": null,
      "outputs": []
    }
  ],
  "metadata": {
    "kernelspec": {
      "display_name": "Python 3",
      "language": "python",
      "name": "python3"
    },
    "language_info": {
      "name": "python",
      "version": "3.6.6",
      "mimetype": "text/x-python",
      "codemirror_mode": {
        "name": "ipython",
        "version": 3
      },
      "pygments_lexer": "ipython3",
      "nbconvert_exporter": "python",
      "file_extension": ".py"
    }
  },
  "nbformat": 4,
  "nbformat_minor": 1
}